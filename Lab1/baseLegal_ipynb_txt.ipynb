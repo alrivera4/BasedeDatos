{
  "cells": [
    {
      "cell_type": "code",
      "source": [
        "!pip install Faker"
      ],
      "metadata": {
        "colab": {
          "base_uri": "https://localhost:8080/"
        },
        "id": "D_-FJAfV1Q61",
        "outputId": "bc2dac5c-1158-4726-ce49-47321f849e04"
      },
      "id": "D_-FJAfV1Q61",
      "execution_count": 120,
      "outputs": [
        {
          "output_type": "stream",
          "name": "stdout",
          "text": [
            "Looking in indexes: https://pypi.org/simple, https://us-python.pkg.dev/colab-wheels/public/simple/\n",
            "Requirement already satisfied: Faker in /usr/local/lib/python3.7/dist-packages (15.3.2)\n",
            "Requirement already satisfied: typing-extensions>=3.10.0.1 in /usr/local/lib/python3.7/dist-packages (from Faker) (4.1.1)\n",
            "Requirement already satisfied: python-dateutil>=2.4 in /usr/local/lib/python3.7/dist-packages (from Faker) (2.8.2)\n",
            "Requirement already satisfied: six>=1.5 in /usr/local/lib/python3.7/dist-packages (from python-dateutil>=2.4->Faker) (1.15.0)\n"
          ]
        }
      ]
    },
    {
      "cell_type": "markdown",
      "id": "76e065cb",
      "metadata": {
        "id": "76e065cb"
      },
      "source": [
        "En situaciones en las que los datos no están fácilmente disponibles pero son necesarios, **tendrá que recurrir a recopilar los datos usted mismo.** Hay muchos métodos que puede usar para adquirir estos datos, desde webscraping hasta API. Pero a veces, terminará necesitando crear **datos falsos o \"ficticios\".** Los datos ficticios pueden ser útiles en momentos en los que conoce las funciones exactas que utilizará y los tipos de datos incluidos, pero simplemente no tiene los datos en sí.\n",
        "\n",
        "Aquí, le mostraré **cómo creé 100 000 filas de datos ficticios.** Estos datos tampoco son puramente aleatorios. Si lo fuera, construirlo habría sido mucho más fácil. A veces, al crear datos ficticios desde cero, deberá desarrollar tendencias o patrones dentro de los datos que puedan reflejar el comportamiento del mundo real. "
      ]
    },
    {
      "cell_type": "markdown",
      "id": "1ac08fd8",
      "metadata": {
        "id": "1ac08fd8"
      },
      "source": [
        "# **La necesidad de construir un conjunto de datos**"
      ]
    },
    {
      "cell_type": "markdown",
      "id": "71e91264",
      "metadata": {
        "id": "71e91264"
      },
      "source": [
        "**Supongamos que está creando una aplicación desde cero y necesita establecer una gran base de usuarios para, por ejemplo, realizar pruebas.** Se le proporciona una lista de características y sus respectivos tipos de datos.\n",
        "\n",
        "**Esta base de usuarios también debe reflejar con cierta precisión los usuarios y las tendencias del mundo real, por lo que no puede ser completamente aleatoria.** Por ejemplo, no desea que un usuario tenga un título universitario y también tenga 10 años. Además, es posible que no desee una sobrerrepresentación de un punto de datos específico, como más hombres que mujeres. Todos estos son puntos a tener en cuenta a la hora de crear su conjunto de datos.\n",
        "\n",
        "**Dado que los datos del mundo real rara vez son verdaderamente aleatorios, un conjunto de datos como este sería una excelente simulación para otros conjuntos de datos que manejará en el futuro.**"
      ]
    },
    {
      "cell_type": "markdown",
      "id": "c6482288",
      "metadata": {
        "id": "c6482288"
      },
      "source": [
        "# Construcción del conjunto de datos"
      ]
    },
    {
      "cell_type": "markdown",
      "id": "d02a8e8d",
      "metadata": {
        "id": "d02a8e8d"
      },
      "source": [
        "Para codificar, comience importando las siguientes bibliotecas:"
      ]
    },
    {
      "cell_type": "code",
      "execution_count": 121,
      "id": "97b3d6da",
      "metadata": {
        "id": "97b3d6da"
      },
      "outputs": [],
      "source": [
        "import pandas as pd\n",
        "import uuid\n",
        "import random\n",
        "from faker import Faker\n",
        "import datetime"
      ]
    },
    {
      "cell_type": "markdown",
      "id": "db21c16c",
      "metadata": {
        "id": "db21c16c"
      },
      "source": [
        "**Size**"
      ]
    },
    {
      "cell_type": "markdown",
      "id": "44ce2a03",
      "metadata": {
        "id": "44ce2a03"
      },
      "source": [
        "El tamaño del conjunto de datos será de 100 000 puntos de datos (puede hacer más, pero el procesamiento puede demorar más). Asigné esta cantidad a una variable constante, que usé en todo momento:"
      ]
    },
    {
      "cell_type": "code",
      "execution_count": 122,
      "id": "29f6b5ac",
      "metadata": {
        "id": "29f6b5ac"
      },
      "outputs": [],
      "source": [
        "num_baselegal = 5000"
      ]
    },
    {
      "cell_type": "markdown",
      "id": "4f8ba686",
      "metadata": {
        "id": "4f8ba686"
      },
      "source": [
        "**Características**"
      ]
    },
    {
      "cell_type": "markdown",
      "id": "555a14da",
      "metadata": {
        "id": "555a14da"
      },
      "source": [
        "Elegí 10 características que esperaba que fueran las más comunes en un conjunto de datos regular de usuarios. Estas características y los respectivos tipos de datos son:\n",
        "\n",
        "     - ID: una cadena única de caracteres para identificar a cada usuario.\n",
        "     - Gender (Sexo:) tipo de datos de cadena de tres opciones.\n",
        "     - Subscriber (Suscriptor:) una opción binaria Verdadero/Falso de su estado de suscripción.\n",
        "     - Name (Nombre:) tipo de datos de cadena del nombre y apellido del usuario.\n",
        "     - Email (Correo electrónico:) q  tipo de datos de cadena de la dirección de correo electrónico del usuario.\n",
        "     - Last Login (Último inicio de sesión:) tipo de datos de cadena de la última hora de inicio de sesión.\n",
        "     - Date of Birth (Fecha de nacimiento:) formato de cadena de año-mes-día.\n",
        "     - Education (Educación:) nivel de educación actual como un tipo de datos de cadena.\n",
        "     - Bio: descripciones de cadenas cortas de palabras aleatorias.\n",
        "     - Rating (Calificación:) tipo entero de una calificación de 1 a 5 de algo."
      ]
    },
    {
      "cell_type": "markdown",
      "id": "17841653",
      "metadata": {
        "id": "17841653"
      },
      "source": [
        "Ingresé lo anterior como una lista de características para inicializar un marco de datos de Pandas:"
      ]
    },
    {
      "cell_type": "code",
      "execution_count": 123,
      "id": "5a145d81",
      "metadata": {
        "id": "5a145d81"
      },
      "outputs": [],
      "source": [
        "# A list of 10 features\n",
        "features = [\n",
        "    \"id_base_legal\",\n",
        "    \"descripcion\"\n",
        "]# Creating a DF for these features\n",
        "df = pd.DataFrame(columns=features)"
      ]
    },
    {
      "cell_type": "markdown",
      "id": "32e7f58f",
      "metadata": {
        "id": "32e7f58f"
      },
      "source": [
        "**Creación de datos**"
      ]
    },
    {
      "cell_type": "markdown",
      "id": "b84da0a2",
      "metadata": {
        "id": "b84da0a2"
      },
      "source": [
        "Algunos atributos anteriores normalmente deberían contener datos desequilibrados. Se puede asumir con seguridad con una investigación rápida, algunas opciones no estarán igualmente representadas. Para un conjunto de datos más realista, estas tendencias deben reflejarse."
      ]
    },
    {
      "cell_type": "markdown",
      "id": "6707781a",
      "metadata": {
        "id": "6707781a"
      },
      "source": [
        "**IDs**"
      ]
    },
    {
      "cell_type": "markdown",
      "id": "57be8b83",
      "metadata": {
        "id": "57be8b83"
      },
      "source": [
        "Para el atributo ID, utilicé la biblioteca uuid para generar una cadena aleatoria de caracteres 100 000 veces. Luego, lo asigné al atributo ID en el marco de datos."
      ]
    },
    {
      "cell_type": "code",
      "execution_count": 124,
      "id": "9417eb1d",
      "metadata": {
        "id": "9417eb1d"
      },
      "outputs": [],
      "source": [
        "df['id_base_legal'] = [uuid.uuid4().hex for i in range(num_baselegal)]"
      ]
    },
    {
      "cell_type": "markdown",
      "id": "92e30db5",
      "metadata": {
        "id": "92e30db5"
      },
      "source": [
        "**UUID es una gran biblioteca para generar identificaciones únicas para cada usuario debido a su posibilidad astronómicamente baja de duplicar una identificación.** Es una gran opción cuando se trata de generar conjuntos de caracteres de identificación únicos. Pero, si desea asegurarse de que no se repitieron las ID, puede realizar una verificación simple en el marco de datos con lo siguiente:"
      ]
    },
    {
      "cell_type": "code",
      "execution_count": 125,
      "id": "4be6d244",
      "metadata": {
        "id": "4be6d244",
        "outputId": "a766b460-fea7-43c3-d92d-cbcf785f38dd",
        "colab": {
          "base_uri": "https://localhost:8080/"
        }
      },
      "outputs": [
        {
          "output_type": "stream",
          "name": "stdout",
          "text": [
            "True\n"
          ]
        }
      ],
      "source": [
        "print(df['id_base_legal'].nunique()==num_baselegal)"
      ]
    },
    {
      "cell_type": "markdown",
      "id": "a14229fb",
      "metadata": {
        "id": "a14229fb"
      },
      "source": [
        "Esto devolverá True si todas las ID en el conjunto de datos son únicas."
      ]
    },
    {
      "cell_type": "markdown",
      "source": [
        "**Subscriber**"
      ],
      "metadata": {
        "id": "RB2niXlUzV3K"
      },
      "id": "RB2niXlUzV3K"
    },
    {
      "cell_type": "markdown",
      "source": [
        "este atributo, las opciones se pueden seleccionar aleatoriamente entre Verdadero y Falso. Dado que se puede esperar razonablemente que aproximadamente la mitad de los usuarios sean suscriptores."
      ],
      "metadata": {
        "id": "T3Sn54c6zYsG"
      },
      "id": "T3Sn54c6zYsG"
    },
    {
      "cell_type": "code",
      "source": [
        "choice = [True, False]\n",
        "df['articulo'] = random.choices(\n",
        "    choice, \n",
        "    k=num_baselegal\n",
        ")"
      ],
      "metadata": {
        "id": "_FA6chx5zcff"
      },
      "id": "_FA6chx5zcff",
      "execution_count": 126,
      "outputs": []
    },
    {
      "cell_type": "code",
      "source": [
        "# Instantiating faker\n",
        "faker = Faker()"
      ],
      "metadata": {
        "id": "x3xQFBS21p3a"
      },
      "id": "x3xQFBS21p3a",
      "execution_count": 127,
      "outputs": []
    },
    {
      "cell_type": "markdown",
      "source": [
        "**Bio**"
      ],
      "metadata": {
        "id": "qhzRyhQny7tq"
      },
      "id": "qhzRyhQny7tq"
    },
    {
      "cell_type": "markdown",
      "source": [
        "Para este atributo, quería variar la longitud de la biografía según el estado de suscripción del usuario. Si un usuario fuera un suscriptor, asumiría que sus biografías serían más largas que las de los no suscriptores.\n",
        "\n",
        "Para dar cabida a este aspecto, construí una función que verifica su estado de suscripción y devuelve una oración aleatoria de Faker que varía en longitud."
      ],
      "metadata": {
        "id": "-mjhh04-y-tG"
      },
      "id": "-mjhh04-y-tG"
    },
    {
      "cell_type": "code",
      "source": [
        "def makeBio(subscriber):\n",
        "    \"\"\"\n",
        "    Making a short or long bio depending their subscription status.\n",
        "    \"\"\"\n",
        "    \n",
        "    if subscriber==True:\n",
        "        \n",
        "        # Randomizing bio length but skewed towards longer bios\n",
        "        bio_len = random.choices([10,20], weights=(10,90), k=1)[0]\n",
        "        \n",
        "    elif subscriber==False:\n",
        "        \n",
        "        # Randomizing bio length but skewed towards shorter bios\n",
        "        bio_len = random.choices([1,3], weights=(10,90), k=1)[0]\n",
        "        \n",
        "    return faker.sentence(bio_len)\n",
        "    \n",
        "\n",
        "df['descripcion'] = [makeBio(i) for i in df['articulo']]"
      ],
      "metadata": {
        "id": "67__lTP6zBsC"
      },
      "id": "67__lTP6zBsC",
      "execution_count": 128,
      "outputs": []
    },
    {
      "cell_type": "markdown",
      "source": [
        "**Estado**"
      ],
      "metadata": {
        "id": "Qetiti2G2Lxk"
      },
      "id": "Qetiti2G2Lxk"
    },
    {
      "cell_type": "markdown",
      "source": [
        "Este atributo es uno de los casos en los que probablemente no se debería utilizar una elección igualmente aleatoria. Porque se puede suponer con seguridad que cada elección no tiene la misma probabilidad de ocurrir.\n",
        "\n",
        "Para el género, proporcioné tres opciones: masculino, femenino y na. Sin embargo, si tuviera que usar la biblioteca aleatoria de Python, cada opción podría mostrarse igualmente en el conjunto de datos. En realidad, habría significativamente más opciones masculinas y femeninas que na. Así que decidí mostrar ese desequilibrio en los datos:"
      ],
      "metadata": {
        "id": "A_xO0uAO0deZ"
      },
      "id": "A_xO0uAO0deZ"
    },
    {
      "cell_type": "code",
      "source": [
        "genders = [\"activo\", \"inactivo\"]"
      ],
      "metadata": {
        "id": "s2INjMai0ViY"
      },
      "id": "s2INjMai0ViY",
      "execution_count": 129,
      "outputs": []
    },
    {
      "cell_type": "code",
      "source": [
        "df['estado'] = random.choices(\n",
        "    genders, \n",
        "    weights=(47,3), \n",
        "    k=num_baselegal\n",
        ")"
      ],
      "metadata": {
        "id": "RdC2TqBX0YN-"
      },
      "id": "RdC2TqBX0YN-",
      "execution_count": 130,
      "outputs": []
    },
    {
      "cell_type": "markdown",
      "id": "545e8963",
      "metadata": {
        "id": "545e8963"
      },
      "source": [
        "**Saving the Dataset**"
      ]
    },
    {
      "cell_type": "markdown",
      "source": [
        "**Estado**"
      ],
      "metadata": {
        "id": "t5W_OX3p0i4o"
      },
      "id": "t5W_OX3p0i4o"
    },
    {
      "cell_type": "markdown",
      "id": "743e5aed",
      "metadata": {
        "id": "743e5aed"
      },
      "source": [
        "Ahora que los datos están completos y si estaba codificando, siéntase libre de ver el marco de datos antes de decidir guardarlo. Si todo se ve bien, guarde el marco de datos como un archivo .csv con este simple comando:"
      ]
    },
    {
      "cell_type": "code",
      "execution_count": 131,
      "id": "b746f91d",
      "metadata": {
        "id": "b746f91d"
      },
      "outputs": [],
      "source": [
        "df.to_csv('dataset_baseLegal.csv')"
      ]
    }
  ],
  "metadata": {
    "kernelspec": {
      "display_name": "Python 3 (ipykernel)",
      "language": "python",
      "name": "python3"
    },
    "language_info": {
      "codemirror_mode": {
        "name": "ipython",
        "version": 3
      },
      "file_extension": ".py",
      "mimetype": "text/x-python",
      "name": "python",
      "nbconvert_exporter": "python",
      "pygments_lexer": "ipython3",
      "version": "3.9.7"
    },
    "colab": {
      "provenance": []
    }
  },
  "nbformat": 4,
  "nbformat_minor": 5
}