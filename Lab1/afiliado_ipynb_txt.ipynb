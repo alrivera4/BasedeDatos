{
  "cells": [
    {
      "cell_type": "code",
      "source": [
        "!pip install Faker"
      ],
      "metadata": {
        "colab": {
          "base_uri": "https://localhost:8080/"
        },
        "id": "-pPDk-Gxddbt",
        "outputId": "bacc580b-0c1f-4bce-e940-6e6f3fca7adf"
      },
      "id": "-pPDk-Gxddbt",
      "execution_count": 1,
      "outputs": [
        {
          "output_type": "stream",
          "name": "stdout",
          "text": [
            "Looking in indexes: https://pypi.org/simple, https://us-python.pkg.dev/colab-wheels/public/simple/\n",
            "Collecting Faker\n",
            "  Downloading Faker-15.3.2-py3-none-any.whl (1.6 MB)\n",
            "\u001b[K     |████████████████████████████████| 1.6 MB 4.8 MB/s \n",
            "\u001b[?25hRequirement already satisfied: python-dateutil>=2.4 in /usr/local/lib/python3.7/dist-packages (from Faker) (2.8.2)\n",
            "Requirement already satisfied: typing-extensions>=3.10.0.1 in /usr/local/lib/python3.7/dist-packages (from Faker) (4.1.1)\n",
            "Requirement already satisfied: six>=1.5 in /usr/local/lib/python3.7/dist-packages (from python-dateutil>=2.4->Faker) (1.15.0)\n",
            "Installing collected packages: Faker\n",
            "Successfully installed Faker-15.3.2\n"
          ]
        }
      ]
    },
    {
      "cell_type": "markdown",
      "id": "3d59342e",
      "metadata": {
        "id": "3d59342e"
      },
      "source": [
        "# Conjunto de datos personalizado"
      ]
    },
    {
      "cell_type": "markdown",
      "id": "76e065cb",
      "metadata": {
        "id": "76e065cb"
      },
      "source": [
        "En situaciones en las que los datos no están fácilmente disponibles pero son necesarios, **tendrá que recurrir a recopilar los datos usted mismo.** Hay muchos métodos que puede usar para adquirir estos datos, desde webscraping hasta API. Pero a veces, terminará necesitando crear **datos falsos o \"ficticios\".** Los datos ficticios pueden ser útiles en momentos en los que conoce las funciones exactas que utilizará y los tipos de datos incluidos, pero simplemente no tiene los datos en sí.\n",
        "\n",
        "Aquí, le mostraré **cómo creé 100 000 filas de datos ficticios.** Estos datos tampoco son puramente aleatorios. Si lo fuera, construirlo habría sido mucho más fácil. A veces, al crear datos ficticios desde cero, deberá desarrollar tendencias o patrones dentro de los datos que puedan reflejar el comportamiento del mundo real. "
      ]
    },
    {
      "cell_type": "markdown",
      "id": "1ac08fd8",
      "metadata": {
        "id": "1ac08fd8"
      },
      "source": [
        "# **La necesidad de construir un conjunto de datos**"
      ]
    },
    {
      "cell_type": "markdown",
      "id": "71e91264",
      "metadata": {
        "id": "71e91264"
      },
      "source": [
        "**Supongamos que está creando una aplicación desde cero y necesita establecer una gran base de usuarios para, por ejemplo, realizar pruebas.** Se le proporciona una lista de características y sus respectivos tipos de datos.\n",
        "\n",
        "**Esta base de usuarios también debe reflejar con cierta precisión los usuarios y las tendencias del mundo real, por lo que no puede ser completamente aleatoria.** Por ejemplo, no desea que un usuario tenga un título universitario y también tenga 10 años. Además, es posible que no desee una sobrerrepresentación de un punto de datos específico, como más hombres que mujeres. Todos estos son puntos a tener en cuenta a la hora de crear su conjunto de datos.\n",
        "\n",
        "**Dado que los datos del mundo real rara vez son verdaderamente aleatorios, un conjunto de datos como este sería una excelente simulación para otros conjuntos de datos que manejará en el futuro.**"
      ]
    },
    {
      "cell_type": "markdown",
      "id": "c6482288",
      "metadata": {
        "id": "c6482288"
      },
      "source": [
        "# Construcción del conjunto de datos"
      ]
    },
    {
      "cell_type": "markdown",
      "id": "d02a8e8d",
      "metadata": {
        "id": "d02a8e8d"
      },
      "source": [
        "Para codificar, comience importando las siguientes bibliotecas:"
      ]
    },
    {
      "cell_type": "code",
      "execution_count": 2,
      "id": "97b3d6da",
      "metadata": {
        "id": "97b3d6da"
      },
      "outputs": [],
      "source": [
        "import pandas as pd\n",
        "import uuid\n",
        "import random\n",
        "from faker import Faker\n",
        "import datetime"
      ]
    },
    {
      "cell_type": "markdown",
      "id": "db21c16c",
      "metadata": {
        "id": "db21c16c"
      },
      "source": [
        "**Size**"
      ]
    },
    {
      "cell_type": "markdown",
      "id": "44ce2a03",
      "metadata": {
        "id": "44ce2a03"
      },
      "source": [
        "El tamaño del conjunto de datos será de 100 000 puntos de datos (puede hacer más, pero el procesamiento puede demorar más). Asigné esta cantidad a una variable constante, que usé en todo momento:"
      ]
    },
    {
      "cell_type": "code",
      "execution_count": 3,
      "id": "29f6b5ac",
      "metadata": {
        "id": "29f6b5ac"
      },
      "outputs": [],
      "source": [
        "num_afiliados = 5000"
      ]
    },
    {
      "cell_type": "markdown",
      "id": "4f8ba686",
      "metadata": {
        "id": "4f8ba686"
      },
      "source": [
        "**Características**"
      ]
    },
    {
      "cell_type": "markdown",
      "id": "555a14da",
      "metadata": {
        "id": "555a14da"
      },
      "source": [
        "Elegí 10 características que esperaba que fueran las más comunes en un conjunto de datos regular de usuarios. Estas características y los respectivos tipos de datos son:\n",
        "\n",
        "     - ID: una cadena única de caracteres para identificar a cada usuario.\n",
        "     - Gender (Sexo:) tipo de datos de cadena de tres opciones.\n",
        "     - Name (Nombre:) tipo de datos de cadena del nombre y apellido del usuario.\n",
        "     - Email (Correo electrónico:) q  tipo de datos de cadena de la dirección de correo electrónico del usuario.\n",
        "     - Date of Birth (Fecha de nacimiento:) formato de cadena de año-mes-día.\n"
      ]
    },
    {
      "cell_type": "markdown",
      "id": "17841653",
      "metadata": {
        "id": "17841653"
      },
      "source": [
        "Ingresé lo anterior como una lista de características para inicializar un marco de datos de Pandas:"
      ]
    },
    {
      "cell_type": "code",
      "execution_count": 4,
      "id": "5a145d81",
      "metadata": {
        "id": "5a145d81"
      },
      "outputs": [],
      "source": [
        "# A list of 10 features\n",
        "features = [\n",
        "    \"id_afiliado\",\n",
        "    \"genero_afiliado\",\n",
        "    \"name\",\n",
        "    \"email\",\n",
        "    \"dob\"\n",
        "]# Creating a DF for these features\n",
        "df = pd.DataFrame(columns=features)"
      ]
    },
    {
      "cell_type": "markdown",
      "id": "32e7f58f",
      "metadata": {
        "id": "32e7f58f"
      },
      "source": [
        "**Creación de datos**"
      ]
    },
    {
      "cell_type": "markdown",
      "id": "b84da0a2",
      "metadata": {
        "id": "b84da0a2"
      },
      "source": [
        "Algunos atributos anteriores normalmente deberían contener datos desequilibrados. Se puede asumir con seguridad con una investigación rápida, algunas opciones no estarán igualmente representadas. Para un conjunto de datos más realista, estas tendencias deben reflejarse."
      ]
    },
    {
      "cell_type": "markdown",
      "id": "6707781a",
      "metadata": {
        "id": "6707781a"
      },
      "source": [
        "**IDs**"
      ]
    },
    {
      "cell_type": "markdown",
      "id": "57be8b83",
      "metadata": {
        "id": "57be8b83"
      },
      "source": [
        "Para el atributo ID, utilicé la biblioteca uuid para generar una cadena aleatoria de caracteres 100 000 veces. Luego, lo asigné al atributo ID en el marco de datos."
      ]
    },
    {
      "cell_type": "code",
      "execution_count": 5,
      "id": "9417eb1d",
      "metadata": {
        "id": "9417eb1d"
      },
      "outputs": [],
      "source": [
        "df['id_afiliado'] = [uuid.uuid4().hex for i in range(num_afiliados)]"
      ]
    },
    {
      "cell_type": "markdown",
      "id": "92e30db5",
      "metadata": {
        "id": "92e30db5"
      },
      "source": [
        "**UUID es una gran biblioteca para generar identificaciones únicas para cada usuario debido a su posibilidad astronómicamente baja de duplicar una identificación.** Es una gran opción cuando se trata de generar conjuntos de caracteres de identificación únicos. Pero, si desea asegurarse de que no se repitieron las ID, puede realizar una verificación simple en el marco de datos con lo siguiente:"
      ]
    },
    {
      "cell_type": "code",
      "execution_count": 6,
      "id": "4be6d244",
      "metadata": {
        "colab": {
          "base_uri": "https://localhost:8080/"
        },
        "id": "4be6d244",
        "outputId": "0cc43791-b905-42a2-bc20-fcf6c4f1ee70"
      },
      "outputs": [
        {
          "output_type": "stream",
          "name": "stdout",
          "text": [
            "True\n"
          ]
        }
      ],
      "source": [
        "print(df['id_afiliado'].nunique()==num_afiliados)"
      ]
    },
    {
      "cell_type": "markdown",
      "id": "a14229fb",
      "metadata": {
        "id": "a14229fb"
      },
      "source": [
        "Esto devolverá True si todas las ID en el conjunto de datos son únicas."
      ]
    },
    {
      "cell_type": "markdown",
      "id": "e42be811",
      "metadata": {
        "id": "e42be811"
      },
      "source": [
        "**Gender**"
      ]
    },
    {
      "cell_type": "markdown",
      "id": "a189353d",
      "metadata": {
        "id": "a189353d"
      },
      "source": [
        "**Este atributo es uno de los casos en los que probablemente no se debería utilizar una elección igualmente aleatoria. Porque se puede suponer con seguridad que cada elección no tiene la misma probabilidad de ocurrir.**\n",
        "\n",
        "Para el género, proporcioné tres opciones: masculino, femenino y na. Sin embargo, si tuviera que usar la biblioteca aleatoria de Python, cada opción podría mostrarse igualmente en el conjunto de datos. En realidad, habría significativamente más opciones masculinas y femeninas que na. Así que decidí mostrar ese desequilibrio en los datos:"
      ]
    },
    {
      "cell_type": "code",
      "execution_count": 7,
      "id": "53792c85",
      "metadata": {
        "id": "53792c85"
      },
      "outputs": [],
      "source": [
        "genders = [\"male\", \"female\", \"na\"]"
      ]
    },
    {
      "cell_type": "code",
      "execution_count": 8,
      "id": "bc4eb9a8",
      "metadata": {
        "id": "bc4eb9a8"
      },
      "outputs": [],
      "source": [
        "df['genero_afiliado'] = random.choices(\n",
        "    genders, \n",
        "    weights=(47,47,6), \n",
        "    k=num_afiliados\n",
        ")"
      ]
    },
    {
      "cell_type": "markdown",
      "id": "fd9b2e7f",
      "metadata": {
        "id": "fd9b2e7f"
      },
      "source": [
        "**Name**"
      ]
    },
    {
      "cell_type": "markdown",
      "id": "f5a065c3",
      "metadata": {
        "id": "f5a065c3"
      },
      "source": [
        "Aquí usé la biblioteca Faker para crear miles de nombres para todos estos usuarios. **La biblioteca Faker es excelente en esta situación porque tiene una opción para nombres masculinos y femeninos.**}} Para procesar los nombres de género, creé una función para asignar nombres en función de un género determinado."
      ]
    },
    {
      "cell_type": "code",
      "execution_count": 9,
      "id": "b3fd6f7f",
      "metadata": {
        "id": "b3fd6f7f"
      },
      "outputs": [],
      "source": [
        "# Instantiating faker\n",
        "faker = Faker()\n",
        "\n",
        "def name_gen(gender):\n",
        "    \"\"\"\n",
        "    Quickly generates a name based on gender\n",
        "    \"\"\"\n",
        "    if gender=='male':\n",
        "        return faker.name_male()\n",
        "    elif gender=='female':\n",
        "        return faker.name_female()\n",
        "    \n",
        "    return faker.name()# Generating names for each user\n",
        "df['name'] = [name_gen(i) for i in df['genero_afiliado']]"
      ]
    },
    {
      "cell_type": "markdown",
      "id": "fbbe6fc8",
      "metadata": {
        "id": "fbbe6fc8"
      },
      "source": [
        "Usé mi función simple para producir rápidamente una lista de nombres basada en los datos del atributo \"Género\" antes y la asigné al marco de datos."
      ]
    },
    {
      "cell_type": "markdown",
      "id": "9744528c",
      "metadata": {
        "id": "9744528c"
      },
      "source": [
        "Al usar la biblioteca aleatoria, proporcioné la función de opciones/choices () con la lista de opciones de género, pesos para cada opción y cuántas opciones hacer representadas por \"k\". Luego se asignó al atributo de \"género\" del marco de datos. El desequilibrio que describí antes está representado en la sección de ponderaciones con una opción \"na\" que aparece aproximadamente el 6% de las veces."
      ]
    },
    {
      "cell_type": "markdown",
      "id": "734bcb93",
      "metadata": {
        "id": "734bcb93"
      },
      "source": [
        "Al igual que \"Género\" antes, usé random.choices() pero sin pesos porque este atributo se puede dividir aleatoriamente entre las dos opciones."
      ]
    },
    {
      "cell_type": "markdown",
      "id": "4ae541de",
      "metadata": {
        "id": "4ae541de"
      },
      "source": [
        "**Email**"
      ]
    },
    {
      "cell_type": "markdown",
      "id": "e81f6c90",
      "metadata": {
        "id": "e81f6c90"
      },
      "source": [
        "El correo electrónico resultó ser uno de los atributos más complicados. Quería crear direcciones de correo electrónico relacionadas con los nombres generados. Sin embargo, probablemente habría una posibilidad de duplicación porque las personas pueden compartir el mismo nombre pero no el mismo correo electrónico.\n",
        "\n",
        "Primero, creé una nueva función que daría formato a los nombres en direcciones de correo electrónico con un nombre de dominio predeterminado. También manejaría direcciones duplicadas simplemente agregando un número aleatorio al final del nombre formateado:"
      ]
    },
    {
      "cell_type": "code",
      "execution_count": 10,
      "id": "670b3855",
      "metadata": {
        "id": "670b3855"
      },
      "outputs": [],
      "source": [
        "def emailGen(name, duplicateFound=False):\n",
        "    \"\"\"\n",
        "    Generates a random email address based on the given name. \n",
        "    Adds a number at the end if a duplicate address was found.\n",
        "    \"\"\"\n",
        "    # Fake domain name to use\n",
        "    dom = \"@gmail.com\"\n",
        "    \n",
        "    # Lowercasing and splitting\n",
        "    name = name.lower().split(\" \")\n",
        "    \n",
        "    # Random character to insert in the name\n",
        "    chars = [\".\", \"_\"]\n",
        "    \n",
        "    new_name = name[0] + random.choice(chars) + name[1] \n",
        "    \n",
        "    # Further distinguishing the email if a duplicate was found\n",
        "    if duplicateFound:\n",
        "        \n",
        "        # Random number to insert at the end\n",
        "        num = random.randint(0,100)\n",
        "        \n",
        "        # Inserting at the end\n",
        "        new_name = new_name + str(num)\n",
        "        \n",
        "    # Returning the email address with the domain name attached\n",
        "    return new_name + dom"
      ]
    },
    {
      "cell_type": "markdown",
      "id": "c488a9f8",
      "metadata": {
        "id": "c488a9f8"
      },
      "source": [
        "Ahora, para aprovechar adecuadamente el propósito de esta función, creé un ciclo que volvería a ejecutar la función cuando fuera necesario mientras iteraba a través del atributo \"Nombre\". El ciclo seguiría volviendo a ejecutar la función hasta que se creara un nombre de correo electrónico único."
      ]
    },
    {
      "cell_type": "code",
      "execution_count": 11,
      "id": "97cd6b45",
      "metadata": {
        "id": "97cd6b45"
      },
      "outputs": [],
      "source": [
        "emails = []\n",
        "\n",
        "for name in df['name']:\n",
        "    \n",
        "    # Generating the email\n",
        "    email = emailGen(name)\n",
        "    \n",
        "    # Looping until a unique email is generated\n",
        "    while email in emails:\n",
        "        \n",
        "        # Creating an email with a random number\n",
        "        email = emailGen(name, duplicateFound=True)\n",
        "    \n",
        "    # Attaching the new email to the list\n",
        "    emails.append(email)\n",
        "    \n",
        "df['email'] = emails"
      ]
    },
    {
      "cell_type": "markdown",
      "id": "813169e8",
      "metadata": {
        "id": "813169e8"
      },
      "source": [
        "Después de generar todos los correos electrónicos, los asigné al atributo \"Correo electrónico\" del marco de datos. También puede hacer una verificación opcional para ver que cada correo electrónico sea único con el mismo método que las ID."
      ]
    },
    {
      "cell_type": "markdown",
      "id": "cc8905e5",
      "metadata": {
        "id": "cc8905e5"
      },
      "source": [
        "**Date of Birth**"
      ]
    },
    {
      "cell_type": "markdown",
      "id": "f2cba8d5",
      "metadata": {
        "id": "f2cba8d5"
      },
      "source": [
        "Este atributo es fácil ya que es similar a \"Último inicio de sesión\". Todo lo que hice fue cambiar el formato de la hora eliminando la hora, los minutos y los segundos. Usé datetime nuevamente para ayudar a elegir aleatoriamente una fecha para cada usuario, pero esta vez el rango de tiempo comenzó desde 1980 hasta 2006 para obtener una buena distribución aleatoria de edades. El siguiente código es prácticamente el mismo que antes, pero con un formato y un intervalo de fechas diferentes:"
      ]
    },
    {
      "cell_type": "code",
      "execution_count": 12,
      "id": "07a97010",
      "metadata": {
        "id": "07a97010"
      },
      "outputs": [],
      "source": [
        "def random_dob(start, end, n):\n",
        "    \"\"\"\n",
        "    Generating a list of a set number of timestamps\n",
        "    \"\"\"\n",
        "    \n",
        "    # The timestamp format\n",
        "    frmt = \"%Y-%m-%d\"\n",
        "    \n",
        "    # Formatting the two time periods\n",
        "    stime = datetime.datetime.strptime(start, frmt)\n",
        "    etime = datetime.datetime.strptime(end, frmt)\n",
        "    \n",
        "    # Creating the pool for random times\n",
        "    td = etime - stime\n",
        "    \n",
        "    # Generating a list with the random times\n",
        "    times = [(random.random() * td + stime).strftime(frmt) for _ in range(n)]\n",
        "    \n",
        "    return times\n",
        "\n",
        "df['dob'] = random_dob(\"1962-01-01\", \"2004-01-01\", num_afiliados)"
      ]
    },
    {
      "cell_type": "markdown",
      "id": "545e8963",
      "metadata": {
        "id": "545e8963"
      },
      "source": [
        "**Saving the Dataset**"
      ]
    },
    {
      "cell_type": "markdown",
      "id": "743e5aed",
      "metadata": {
        "id": "743e5aed"
      },
      "source": [
        "Ahora que los datos están completos y si estaba codificando, siéntase libre de ver el marco de datos antes de decidir guardarlo. Si todo se ve bien, guarde el marco de datos como un archivo .csv con este simple comando:"
      ]
    },
    {
      "cell_type": "code",
      "execution_count": 13,
      "id": "b746f91d",
      "metadata": {
        "id": "b746f91d"
      },
      "outputs": [],
      "source": [
        "df.to_csv('dataset_afiliados.csv')"
      ]
    }
  ],
  "metadata": {
    "kernelspec": {
      "display_name": "Python 3 (ipykernel)",
      "language": "python",
      "name": "python3"
    },
    "language_info": {
      "codemirror_mode": {
        "name": "ipython",
        "version": 3
      },
      "file_extension": ".py",
      "mimetype": "text/x-python",
      "name": "python",
      "nbconvert_exporter": "python",
      "pygments_lexer": "ipython3",
      "version": "3.9.7"
    },
    "colab": {
      "provenance": []
    }
  },
  "nbformat": 4,
  "nbformat_minor": 5
}